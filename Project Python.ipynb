{
 "cells": [
  {
   "cell_type": "raw",
   "id": "5f7e205d-767c-4c63-8dcf-abd7d337cff4",
   "metadata": {},
   "source": [
    "Capstone project - Python Fundamentals"
   ]
  },
  {
   "cell_type": "code",
   "execution_count": 57,
   "id": "47d77de0-2ceb-42e7-b0f5-3e4ef197539d",
   "metadata": {},
   "outputs": [],
   "source": [
    "import numpy as pd\n",
    "import pandas as pd"
   ]
  },
  {
   "cell_type": "raw",
   "id": "346887e4-d375-45f2-a077-b734fc839d41",
   "metadata": {},
   "source": [
    "Task1 - There are three different tables as given above. Please make three dataframe in python and save them as three .csv files. From Task 2 to Task 10, use the saved .csv files only."
   ]
  },
  {
   "cell_type": "code",
   "execution_count": 58,
   "id": "539b6c4f-9fcf-4f9a-a20e-ddb5de990704",
   "metadata": {},
   "outputs": [
    {
     "data": {
      "text/html": [
       "<div>\n",
       "<style scoped>\n",
       "    .dataframe tbody tr th:only-of-type {\n",
       "        vertical-align: middle;\n",
       "    }\n",
       "\n",
       "    .dataframe tbody tr th {\n",
       "        vertical-align: top;\n",
       "    }\n",
       "\n",
       "    .dataframe thead th {\n",
       "        text-align: right;\n",
       "    }\n",
       "</style>\n",
       "<table border=\"1\" class=\"dataframe\">\n",
       "  <thead>\n",
       "    <tr style=\"text-align: right;\">\n",
       "      <th></th>\n",
       "      <th>ID</th>\n",
       "      <th>Project</th>\n",
       "      <th>Cost</th>\n",
       "      <th>Status</th>\n",
       "    </tr>\n",
       "  </thead>\n",
       "  <tbody>\n",
       "    <tr>\n",
       "      <th>0</th>\n",
       "      <td>A001</td>\n",
       "      <td>Project 1</td>\n",
       "      <td>1002000.0</td>\n",
       "      <td>Finished</td>\n",
       "    </tr>\n",
       "    <tr>\n",
       "      <th>1</th>\n",
       "      <td>A002</td>\n",
       "      <td>Project 2</td>\n",
       "      <td>2000000.0</td>\n",
       "      <td>Ongoing</td>\n",
       "    </tr>\n",
       "    <tr>\n",
       "      <th>2</th>\n",
       "      <td>A003</td>\n",
       "      <td>Project 3</td>\n",
       "      <td>4500000.0</td>\n",
       "      <td>Finished</td>\n",
       "    </tr>\n",
       "    <tr>\n",
       "      <th>3</th>\n",
       "      <td>A004</td>\n",
       "      <td>Project 4</td>\n",
       "      <td>5500000.0</td>\n",
       "      <td>Ongoing</td>\n",
       "    </tr>\n",
       "    <tr>\n",
       "      <th>4</th>\n",
       "      <td>A005</td>\n",
       "      <td>Project 5</td>\n",
       "      <td>NaN</td>\n",
       "      <td>Finished</td>\n",
       "    </tr>\n",
       "    <tr>\n",
       "      <th>5</th>\n",
       "      <td>A002</td>\n",
       "      <td>Project 6</td>\n",
       "      <td>680000.0</td>\n",
       "      <td>Failed</td>\n",
       "    </tr>\n",
       "    <tr>\n",
       "      <th>6</th>\n",
       "      <td>A005</td>\n",
       "      <td>Project 7</td>\n",
       "      <td>400000.0</td>\n",
       "      <td>Finished</td>\n",
       "    </tr>\n",
       "    <tr>\n",
       "      <th>7</th>\n",
       "      <td>A003</td>\n",
       "      <td>Project 8</td>\n",
       "      <td>350000.0</td>\n",
       "      <td>Failed</td>\n",
       "    </tr>\n",
       "    <tr>\n",
       "      <th>8</th>\n",
       "      <td>A001</td>\n",
       "      <td>Project 9</td>\n",
       "      <td>NaN</td>\n",
       "      <td>Ongoing</td>\n",
       "    </tr>\n",
       "    <tr>\n",
       "      <th>9</th>\n",
       "      <td>A003</td>\n",
       "      <td>Project 10</td>\n",
       "      <td>300000.0</td>\n",
       "      <td>Finished</td>\n",
       "    </tr>\n",
       "    <tr>\n",
       "      <th>10</th>\n",
       "      <td>A001</td>\n",
       "      <td>Project 11</td>\n",
       "      <td>2000000.0</td>\n",
       "      <td>Failed</td>\n",
       "    </tr>\n",
       "    <tr>\n",
       "      <th>11</th>\n",
       "      <td>A004</td>\n",
       "      <td>Project 12</td>\n",
       "      <td>1000000.0</td>\n",
       "      <td>Ongoing</td>\n",
       "    </tr>\n",
       "    <tr>\n",
       "      <th>12</th>\n",
       "      <td>A004</td>\n",
       "      <td>Project 13</td>\n",
       "      <td>3000000.0</td>\n",
       "      <td>Finished</td>\n",
       "    </tr>\n",
       "    <tr>\n",
       "      <th>13</th>\n",
       "      <td>A005</td>\n",
       "      <td>Project 14</td>\n",
       "      <td>200000.0</td>\n",
       "      <td>Finished</td>\n",
       "    </tr>\n",
       "  </tbody>\n",
       "</table>\n",
       "</div>"
      ],
      "text/plain": [
       "      ID     Project       Cost    Status\n",
       "0   A001   Project 1  1002000.0  Finished\n",
       "1   A002   Project 2  2000000.0   Ongoing\n",
       "2   A003   Project 3  4500000.0  Finished\n",
       "3   A004   Project 4  5500000.0   Ongoing\n",
       "4   A005   Project 5        NaN  Finished\n",
       "5   A002   Project 6   680000.0    Failed\n",
       "6   A005   Project 7   400000.0  Finished\n",
       "7   A003   Project 8   350000.0    Failed\n",
       "8   A001   Project 9        NaN   Ongoing\n",
       "9   A003  Project 10   300000.0  Finished\n",
       "10  A001  Project 11  2000000.0    Failed\n",
       "11  A004  Project 12  1000000.0   Ongoing\n",
       "12  A004  Project 13  3000000.0  Finished\n",
       "13  A005  Project 14   200000.0  Finished"
      ]
     },
     "execution_count": 58,
     "metadata": {},
     "output_type": "execute_result"
    }
   ],
   "source": [
    "# Project data Frame\n",
    "ProjectData = {'ID': ['A001', 'A002', 'A003', 'A004', 'A005', 'A002', 'A005', 'A003', 'A001', 'A003', 'A001', 'A004', 'A004', 'A005'],\n",
    "    'Project': ['Project 1', 'Project 2', 'Project 3', 'Project 4', 'Project 5', 'Project 6', 'Project 7', 'Project 8', 'Project 9', \n",
    "                'Project 10', 'Project 11', 'Project 12', 'Project 13', 'Project 14'],\n",
    "    'Cost': [1002000, 2000000, 4500000, 5500000, None, 680000, 400000, 350000, None, 300000, 2000000, 1000000, 3000000, 200000],\n",
    "    'Status': ['Finished', 'Ongoing', 'Finished', 'Ongoing', 'Finished', 'Failed', 'Finished', 'Failed', 'Ongoing', \n",
    "               'Finished', 'Failed', 'Ongoing', 'Finished', 'Finished']}\n",
    "\n",
    "ProjectDataframe = pd.DataFrame(ProjectData)\n",
    "\n",
    "ProjectDataframe.to_csv('ProjectDateFrame.csv', index=False)\n",
    "ProjectDataframe"
   ]
  },
  {
   "cell_type": "code",
   "execution_count": 59,
   "id": "97fa5e83-13e8-461a-9d90-1e053e327025",
   "metadata": {},
   "outputs": [
    {
     "data": {
      "text/html": [
       "<div>\n",
       "<style scoped>\n",
       "    .dataframe tbody tr th:only-of-type {\n",
       "        vertical-align: middle;\n",
       "    }\n",
       "\n",
       "    .dataframe tbody tr th {\n",
       "        vertical-align: top;\n",
       "    }\n",
       "\n",
       "    .dataframe thead th {\n",
       "        text-align: right;\n",
       "    }\n",
       "</style>\n",
       "<table border=\"1\" class=\"dataframe\">\n",
       "  <thead>\n",
       "    <tr style=\"text-align: right;\">\n",
       "      <th></th>\n",
       "      <th>ID</th>\n",
       "      <th>Name</th>\n",
       "      <th>Gender</th>\n",
       "      <th>City</th>\n",
       "      <th>Age</th>\n",
       "    </tr>\n",
       "  </thead>\n",
       "  <tbody>\n",
       "    <tr>\n",
       "      <th>0</th>\n",
       "      <td>A001</td>\n",
       "      <td>John Alter</td>\n",
       "      <td>M</td>\n",
       "      <td>Paris</td>\n",
       "      <td>25</td>\n",
       "    </tr>\n",
       "    <tr>\n",
       "      <th>1</th>\n",
       "      <td>A002</td>\n",
       "      <td>Alice Luxumberg</td>\n",
       "      <td>F</td>\n",
       "      <td>London</td>\n",
       "      <td>27</td>\n",
       "    </tr>\n",
       "    <tr>\n",
       "      <th>2</th>\n",
       "      <td>A003</td>\n",
       "      <td>Tom Sabestine</td>\n",
       "      <td>M</td>\n",
       "      <td>Berlin</td>\n",
       "      <td>29</td>\n",
       "    </tr>\n",
       "    <tr>\n",
       "      <th>3</th>\n",
       "      <td>A004</td>\n",
       "      <td>Nina Adgra</td>\n",
       "      <td>F</td>\n",
       "      <td>Newyork</td>\n",
       "      <td>31</td>\n",
       "    </tr>\n",
       "    <tr>\n",
       "      <th>4</th>\n",
       "      <td>A005</td>\n",
       "      <td>Amy Johny</td>\n",
       "      <td>F</td>\n",
       "      <td>Madrid</td>\n",
       "      <td>30</td>\n",
       "    </tr>\n",
       "  </tbody>\n",
       "</table>\n",
       "</div>"
      ],
      "text/plain": [
       "     ID             Name Gender     City  Age\n",
       "0  A001       John Alter      M    Paris   25\n",
       "1  A002  Alice Luxumberg      F   London   27\n",
       "2  A003    Tom Sabestine      M   Berlin   29\n",
       "3  A004       Nina Adgra      F  Newyork   31\n",
       "4  A005        Amy Johny      F   Madrid   30"
      ]
     },
     "execution_count": 59,
     "metadata": {},
     "output_type": "execute_result"
    }
   ],
   "source": [
    "# Employee Data Frame \n",
    "Employeedata = {'ID':['A001','A002','A003','A004','A005'],\n",
    "        'Name':['John Alter','Alice Luxumberg','Tom Sabestine','Nina Adgra','Amy Johny'],\n",
    "        'Gender':['M', 'F', 'M', 'F', 'F'],\n",
    "        'City':['Paris','London','Berlin','Newyork','Madrid'],\n",
    "        'Age': [25,27,29,31,30]}\n",
    "EmployeeDataFrame = pd.DataFrame(Employeedata)\n",
    "\n",
    "EmployeeDataFrame.to_csv('EmployeeDataFrame.csv', index=False)\n",
    "EmployeeDataFrame"
   ]
  },
  {
   "cell_type": "code",
   "execution_count": 60,
   "id": "b616df49-6389-4e1c-9e39-5fb86fb8dd7e",
   "metadata": {},
   "outputs": [
    {
     "data": {
      "text/html": [
       "<div>\n",
       "<style scoped>\n",
       "    .dataframe tbody tr th:only-of-type {\n",
       "        vertical-align: middle;\n",
       "    }\n",
       "\n",
       "    .dataframe tbody tr th {\n",
       "        vertical-align: top;\n",
       "    }\n",
       "\n",
       "    .dataframe thead th {\n",
       "        text-align: right;\n",
       "    }\n",
       "</style>\n",
       "<table border=\"1\" class=\"dataframe\">\n",
       "  <thead>\n",
       "    <tr style=\"text-align: right;\">\n",
       "      <th></th>\n",
       "      <th>ID</th>\n",
       "      <th>Designation Level</th>\n",
       "    </tr>\n",
       "  </thead>\n",
       "  <tbody>\n",
       "    <tr>\n",
       "      <th>0</th>\n",
       "      <td>A001</td>\n",
       "      <td>2</td>\n",
       "    </tr>\n",
       "    <tr>\n",
       "      <th>1</th>\n",
       "      <td>A002</td>\n",
       "      <td>2</td>\n",
       "    </tr>\n",
       "    <tr>\n",
       "      <th>2</th>\n",
       "      <td>A003</td>\n",
       "      <td>3</td>\n",
       "    </tr>\n",
       "    <tr>\n",
       "      <th>3</th>\n",
       "      <td>A004</td>\n",
       "      <td>2</td>\n",
       "    </tr>\n",
       "    <tr>\n",
       "      <th>4</th>\n",
       "      <td>A005</td>\n",
       "      <td>3</td>\n",
       "    </tr>\n",
       "  </tbody>\n",
       "</table>\n",
       "</div>"
      ],
      "text/plain": [
       "     ID  Designation Level\n",
       "0  A001                  2\n",
       "1  A002                  2\n",
       "2  A003                  3\n",
       "3  A004                  2\n",
       "4  A005                  3"
      ]
     },
     "execution_count": 60,
     "metadata": {},
     "output_type": "execute_result"
    }
   ],
   "source": [
    "# Seniority Level Data Frame\n",
    "Seniorityleveldata={'ID':['A001','A002','A003','A004','A005'],\n",
    "                   'Designation Level':[2,2,3,2,3]}\n",
    "SeniorityLevelDataFrame=pd.DataFrame(Seniorityleveldata)\n",
    "SeniorityLevelDataFrame.to_csv('SeniorityLevelDataFrame.csv', index=False)\n",
    "SeniorityLevelDataFrame"
   ]
  },
  {
   "cell_type": "code",
   "execution_count": null,
   "id": "6ecb6808-48b0-49d8-a479-454ef51c7cd8",
   "metadata": {},
   "outputs": [],
   "source": []
  },
  {
   "cell_type": "code",
   "execution_count": 61,
   "id": "0430c46e-d318-4a38-a3c9-1d2ecf16e1cf",
   "metadata": {},
   "outputs": [
    {
     "name": "stdout",
     "output_type": "stream",
     "text": [
      "      ID     Project       Cost    Status\n",
      "0   A001   Project 1  1002000.0  Finished\n",
      "1   A002   Project 2  2000000.0   Ongoing\n",
      "2   A003   Project 3  4500000.0  Finished\n",
      "3   A004   Project 4  5500000.0   Ongoing\n",
      "4   A005   Project 5        NaN  Finished\n",
      "5   A002   Project 6   680000.0    Failed\n",
      "6   A005   Project 7   400000.0  Finished\n",
      "7   A003   Project 8   350000.0    Failed\n",
      "8   A001   Project 9        NaN   Ongoing\n",
      "9   A003  Project 10   300000.0  Finished\n",
      "10  A001  Project 11  2000000.0    Failed\n",
      "11  A004  Project 12  1000000.0   Ongoing\n",
      "12  A004  Project 13  3000000.0  Finished\n",
      "13  A005  Project 14   200000.0  Finished\n"
     ]
    }
   ],
   "source": [
    "# File into a pandas Projectdataframe\n",
    "Projectdataframe = pd.read_csv(r'C:\\Users\\Narendra\\ProjectDateFrame.csv')\n",
    "print(Projectdataframe)"
   ]
  },
  {
   "cell_type": "code",
   "execution_count": 62,
   "id": "1cabb949-35d4-4c0e-91ae-4c7e1ad829d8",
   "metadata": {},
   "outputs": [
    {
     "name": "stdout",
     "output_type": "stream",
     "text": [
      "     ID             Name Gender     City  Age\n",
      "0  A001       John Alter      M    Paris   25\n",
      "1  A002  Alice Luxumberg      F   London   27\n",
      "2  A003    Tom Sabestine      M   Berlin   29\n",
      "3  A004       Nina Adgra      F  Newyork   31\n",
      "4  A005        Amy Johny      F   Madrid   30\n"
     ]
    }
   ],
   "source": [
    "# File into a pandas EmployeeDataFrame\n",
    "EmployeeDataFrame = pd.read_csv(r'C:\\Users\\Narendra\\EmployeeDataFrame.csv')\n",
    "print(EmployeeDataFrame)"
   ]
  },
  {
   "cell_type": "code",
   "execution_count": 63,
   "id": "865ec410-65d7-4f69-9744-c7c66eebaf8c",
   "metadata": {},
   "outputs": [
    {
     "name": "stdout",
     "output_type": "stream",
     "text": [
      "     ID  Designation Level\n",
      "0  A001                  2\n",
      "1  A002                  2\n",
      "2  A003                  3\n",
      "3  A004                  2\n",
      "4  A005                  3\n"
     ]
    }
   ],
   "source": [
    "# File into a pandas SeniorityLevelDataFrame\n",
    "SeniorityLevelDataFrame = pd.read_csv(r'C:\\Users\\Narendra\\SeniorityLevelDataFrame.csv')\n",
    "print(SeniorityLevelDataFrame)"
   ]
  },
  {
   "cell_type": "code",
   "execution_count": null,
   "id": "42738b75-1f79-4620-b411-08cbb36dea92",
   "metadata": {},
   "outputs": [],
   "source": []
  },
  {
   "cell_type": "raw",
   "id": "ddb9bd7d-54c9-4cec-9619-504fb883717f",
   "metadata": {},
   "source": [
    "Task2 - The cost column in the dataframe “Project” has some missing values. Your task is to compute these missing values. Replace the missing values by running average. You should use the “For” loop for this task."
   ]
  },
  {
   "cell_type": "code",
   "execution_count": 64,
   "id": "274fc501-bc5a-4961-8eba-f1c1da18f01c",
   "metadata": {},
   "outputs": [
    {
     "name": "stdout",
     "output_type": "stream",
     "text": [
      "      ID     Project          Cost    Status\n",
      "0   A001   Project 1  1.002000e+06  Finished\n",
      "1   A002   Project 2  2.000000e+06   Ongoing\n",
      "2   A003   Project 3  4.500000e+06  Finished\n",
      "3   A004   Project 4  5.500000e+06   Ongoing\n",
      "4   A005   Project 5  3.250500e+06  Finished\n",
      "5   A002   Project 6  6.800000e+05    Failed\n",
      "6   A005   Project 7  4.000000e+05  Finished\n",
      "7   A003   Project 8  3.500000e+05    Failed\n",
      "8   A001   Project 9  2.061714e+06   Ongoing\n",
      "9   A003  Project 10  3.000000e+05  Finished\n",
      "10  A001  Project 11  2.000000e+06    Failed\n",
      "11  A004  Project 12  1.000000e+06   Ongoing\n",
      "12  A004  Project 13  3.000000e+06  Finished\n",
      "13  A005  Project 14  2.000000e+05  Finished\n"
     ]
    }
   ],
   "source": [
    "# Missing values in Cost\n",
    "project_df = pd.DataFrame(Projectdataframe)\n",
    "#track of the running sum and count\n",
    "running_sum = 0 \n",
    "count = 0\n",
    "#replace missing values\n",
    "for index, row in project_df.iterrows():\n",
    "    if pd.isna(row['Cost']):\n",
    "        project_df.at[index, 'Cost'] = running_sum / count if count > 0 else 0\n",
    "    else:\n",
    "        running_sum += row['Cost']\n",
    "        count += 1\n",
    "## Display the updated dataframe\n",
    "print(Projectdataframe)"
   ]
  },
  {
   "cell_type": "code",
   "execution_count": null,
   "id": "4dc9f0a4-11ed-4491-ade6-9a0b82639ae2",
   "metadata": {},
   "outputs": [],
   "source": []
  },
  {
   "cell_type": "raw",
   "id": "57e07bd3-0667-418f-851e-60e7ede05687",
   "metadata": {},
   "source": [
    "Task3 - Split the name column in the Employee dataframe into two new columns “First Name”, and “Last Name” and remove the older “name” column."
   ]
  },
  {
   "cell_type": "code",
   "execution_count": 65,
   "id": "1432072d-c696-443e-9323-73d7ae020d0e",
   "metadata": {},
   "outputs": [
    {
     "name": "stdout",
     "output_type": "stream",
     "text": [
      "     ID Gender     City  Age First Name  Last Name\n",
      "0  A001      M    Paris   25       John      Alter\n",
      "1  A002      F   London   27      Alice  Luxumberg\n",
      "2  A003      M   Berlin   29        Tom  Sabestine\n",
      "3  A004      F  Newyork   31       Nina      Adgra\n",
      "4  A005      F   Madrid   30        Amy      Johny\n"
     ]
    }
   ],
   "source": [
    "employee_df = pd.DataFrame(EmployeeDataFrame)\n",
    "#Split the 'name' column into 'First' and 'Last' Name\n",
    "employee_df[['First Name','Last Name']] = employee_df['Name'].str.split(' ', expand=True)\n",
    "#update the old 'name' column\n",
    "employee_df = employee_df.drop(columns=['Name'])\n",
    "# Display the updated dataframe\n",
    "print(employee_df)"
   ]
  },
  {
   "cell_type": "code",
   "execution_count": null,
   "id": "9ef66e86-fb02-42c1-af5c-d828d796112a",
   "metadata": {},
   "outputs": [],
   "source": []
  },
  {
   "cell_type": "raw",
   "id": "5276fecc-f738-4e38-a9ef-6ac680826423",
   "metadata": {},
   "source": [
    "Task4 - Join all three dataframes in one single dataframe. Name it “Final”"
   ]
  },
  {
   "cell_type": "code",
   "execution_count": 66,
   "id": "8daf0fca-1384-443e-9611-b277e4791aca",
   "metadata": {},
   "outputs": [
    {
     "name": "stdout",
     "output_type": "stream",
     "text": [
      "      ID     Project          Cost    Status             Name Gender     City  \\\n",
      "0   A001   Project 1  1.002000e+06  Finished       John Alter      M    Paris   \n",
      "1   A002   Project 2  2.000000e+06   Ongoing  Alice Luxumberg      F   London   \n",
      "2   A003   Project 3  4.500000e+06  Finished    Tom Sabestine      M   Berlin   \n",
      "3   A004   Project 4  5.500000e+06   Ongoing       Nina Adgra      F  Newyork   \n",
      "4   A005   Project 5  3.250500e+06  Finished        Amy Johny      F   Madrid   \n",
      "5   A002   Project 6  6.800000e+05    Failed  Alice Luxumberg      F   London   \n",
      "6   A005   Project 7  4.000000e+05  Finished        Amy Johny      F   Madrid   \n",
      "7   A003   Project 8  3.500000e+05    Failed    Tom Sabestine      M   Berlin   \n",
      "8   A001   Project 9  2.061714e+06   Ongoing       John Alter      M    Paris   \n",
      "9   A003  Project 10  3.000000e+05  Finished    Tom Sabestine      M   Berlin   \n",
      "10  A001  Project 11  2.000000e+06    Failed       John Alter      M    Paris   \n",
      "11  A004  Project 12  1.000000e+06   Ongoing       Nina Adgra      F  Newyork   \n",
      "12  A004  Project 13  3.000000e+06  Finished       Nina Adgra      F  Newyork   \n",
      "13  A005  Project 14  2.000000e+05  Finished        Amy Johny      F   Madrid   \n",
      "\n",
      "    Age  Designation Level  \n",
      "0    25                  2  \n",
      "1    27                  2  \n",
      "2    29                  3  \n",
      "3    31                  2  \n",
      "4    30                  3  \n",
      "5    27                  2  \n",
      "6    30                  3  \n",
      "7    29                  3  \n",
      "8    25                  2  \n",
      "9    29                  3  \n",
      "10   25                  2  \n",
      "11   31                  2  \n",
      "12   31                  2  \n",
      "13   30                  3  \n"
     ]
    }
   ],
   "source": [
    "employee_df = pd.DataFrame(EmployeeDataFrame)\n",
    "project_df = pd.DataFrame(Projectdataframe)\n",
    "SeniorityLevelDataFrame=pd.DataFrame(SeniorityLevelDataFrame)\n",
    "\n",
    "# Merge Employee and Project dataframes on 'employee_id'\n",
    "Final = pd.merge(project_df, employee_df, on =\"ID\", how=\"left\")  \n",
    "Final = pd.merge(Final,SeniorityLevelDataFrame , on=\"ID\", how=\"left\")\n",
    "\n",
    "# Display the final dataframe\n",
    "print(Final)"
   ]
  },
  {
   "cell_type": "code",
   "execution_count": null,
   "id": "c973760e-49b1-4551-a18b-7898f1b8bb5e",
   "metadata": {},
   "outputs": [],
   "source": []
  },
  {
   "cell_type": "raw",
   "id": "9a2bdea9-5710-4849-9fa0-b675c16bf992",
   "metadata": {},
   "source": [
    "Task 5 Add a new bonus column in the Final dataframe. Give a 5% bonus concerning project cost only to employees who have finished the projects."
   ]
  },
  {
   "cell_type": "code",
   "execution_count": 67,
   "id": "c798b0cd-2471-48b4-a1df-fe951575236f",
   "metadata": {},
   "outputs": [
    {
     "name": "stdout",
     "output_type": "stream",
     "text": [
      "      ID     Project          Cost    Status             Name Gender     City  \\\n",
      "0   A001   Project 1  1.002000e+06  Finished       John Alter      M    Paris   \n",
      "1   A002   Project 2  2.000000e+06   Ongoing  Alice Luxumberg      F   London   \n",
      "2   A003   Project 3  4.500000e+06  Finished    Tom Sabestine      M   Berlin   \n",
      "3   A004   Project 4  5.500000e+06   Ongoing       Nina Adgra      F  Newyork   \n",
      "4   A005   Project 5  3.250500e+06  Finished        Amy Johny      F   Madrid   \n",
      "5   A002   Project 6  6.800000e+05    Failed  Alice Luxumberg      F   London   \n",
      "6   A005   Project 7  4.000000e+05  Finished        Amy Johny      F   Madrid   \n",
      "7   A003   Project 8  3.500000e+05    Failed    Tom Sabestine      M   Berlin   \n",
      "8   A001   Project 9  2.061714e+06   Ongoing       John Alter      M    Paris   \n",
      "9   A003  Project 10  3.000000e+05  Finished    Tom Sabestine      M   Berlin   \n",
      "10  A001  Project 11  2.000000e+06    Failed       John Alter      M    Paris   \n",
      "11  A004  Project 12  1.000000e+06   Ongoing       Nina Adgra      F  Newyork   \n",
      "12  A004  Project 13  3.000000e+06  Finished       Nina Adgra      F  Newyork   \n",
      "13  A005  Project 14  2.000000e+05  Finished        Amy Johny      F   Madrid   \n",
      "\n",
      "    Age  Designation Level     Bonus  \n",
      "0    25                  2   50100.0  \n",
      "1    27                  2       0.0  \n",
      "2    29                  3  225000.0  \n",
      "3    31                  2       0.0  \n",
      "4    30                  3  162525.0  \n",
      "5    27                  2       0.0  \n",
      "6    30                  3   20000.0  \n",
      "7    29                  3       0.0  \n",
      "8    25                  2       0.0  \n",
      "9    29                  3   15000.0  \n",
      "10   25                  2       0.0  \n",
      "11   31                  2       0.0  \n",
      "12   31                  2  150000.0  \n",
      "13   30                  3   10000.0  \n"
     ]
    }
   ],
   "source": [
    "# Add a new 'Bonus' column\n",
    "Final['Bonus'] = Final.apply(lambda row: row['Cost'] * 0.05 if row['Status'] == 'Finished' else 0, axis=1)\n",
    "\n",
    "# Display the updated dataframe\n",
    "print(Final)"
   ]
  },
  {
   "cell_type": "code",
   "execution_count": null,
   "id": "63ae66b9-8807-4e15-8f4e-a62e90685463",
   "metadata": {},
   "outputs": [],
   "source": []
  },
  {
   "cell_type": "markdown",
   "id": "a8514065-4182-4994-aa00-d788ee7f1b7d",
   "metadata": {},
   "source": [
    "Task-6 Demote the designation level by 1, whose projects have status “fail”. Delete the employees record whose designation level is above 4."
   ]
  },
  {
   "cell_type": "code",
   "execution_count": 69,
   "id": "0d316a80-e59a-41de-94ec-9c36de9b03d7",
   "metadata": {},
   "outputs": [
    {
     "name": "stdout",
     "output_type": "stream",
     "text": [
      "      ID     Project          Cost    Status             Name Gender     City  \\\n",
      "0   A001   Project 1  1.002000e+06  Finished       John Alter      M    Paris   \n",
      "1   A002   Project 2  2.000000e+06   Ongoing  Alice Luxumberg      F   London   \n",
      "2   A003   Project 3  4.500000e+06  Finished    Tom Sabestine      M   Berlin   \n",
      "3   A004   Project 4  5.500000e+06   Ongoing       Nina Adgra      F  Newyork   \n",
      "4   A005   Project 5  3.250500e+06  Finished        Amy Johny      F   Madrid   \n",
      "5   A002   Project 6  6.800000e+05    Failed  Alice Luxumberg      F   London   \n",
      "6   A005   Project 7  4.000000e+05  Finished        Amy Johny      F   Madrid   \n",
      "7   A003   Project 8  3.500000e+05    Failed    Tom Sabestine      M   Berlin   \n",
      "8   A001   Project 9  2.061714e+06   Ongoing       John Alter      M    Paris   \n",
      "9   A003  Project 10  3.000000e+05  Finished    Tom Sabestine      M   Berlin   \n",
      "10  A001  Project 11  2.000000e+06    Failed       John Alter      M    Paris   \n",
      "11  A004  Project 12  1.000000e+06   Ongoing       Nina Adgra      F  Newyork   \n",
      "12  A004  Project 13  3.000000e+06  Finished       Nina Adgra      F  Newyork   \n",
      "13  A005  Project 14  2.000000e+05  Finished        Amy Johny      F   Madrid   \n",
      "\n",
      "    Age  Designation Level     Bonus  \n",
      "0    25                  2   50100.0  \n",
      "1    27                  2       0.0  \n",
      "2    29                  3  225000.0  \n",
      "3    31                  2       0.0  \n",
      "4    30                  3  162525.0  \n",
      "5    27                  2       0.0  \n",
      "6    30                  3   20000.0  \n",
      "7    29                  3       0.0  \n",
      "8    25                  2       0.0  \n",
      "9    29                  3   15000.0  \n",
      "10   25                  2       0.0  \n",
      "11   31                  2       0.0  \n",
      "12   31                  2  150000.0  \n",
      "13   30                  3   10000.0  \n"
     ]
    }
   ],
   "source": [
    "# Demote designation level by 1 for employees whose project status is \"fail\"\n",
    "Final['Designation Level'] = Final.apply(\n",
    "    lambda row:row['Designation Level'] - 1 if row['Status'] == 'fail' else row['Designation Level'],\n",
    "    axis=1\n",
    ")\n",
    "\n",
    "# Delete employee records whose designation level is above 4\n",
    "Final = Final[Final['Designation Level'] <= 4]\n",
    "\n",
    "# Display the updated dataframe\n",
    "print(Final)"
   ]
  },
  {
   "cell_type": "code",
   "execution_count": null,
   "id": "ce25700d-1e42-4744-a4b8-454f4c3c28e4",
   "metadata": {},
   "outputs": [],
   "source": []
  },
  {
   "cell_type": "raw",
   "id": "0a61ab18-7d63-412e-b4e4-02e4e4783c1f",
   "metadata": {},
   "source": [
    "Task-7 Add “Mr.” and “Mrs.” to the first name column and drop the gender column."
   ]
  },
  {
   "cell_type": "code",
   "execution_count": 70,
   "id": "a88d95e2-a329-4efc-a8ab-292b2bc2c58f",
   "metadata": {},
   "outputs": [
    {
     "name": "stdout",
     "output_type": "stream",
     "text": [
      "     ID             Name Gender     City  Age            first_name\n",
      "0  A001       John Alter      M    Paris   25        Mr. John Alter\n",
      "1  A002  Alice Luxumberg      F   London   27  Mrs. Alice Luxumberg\n",
      "2  A003    Tom Sabestine      M   Berlin   29     Mr. Tom Sabestine\n",
      "3  A004       Nina Adgra      F  Newyork   31       Mrs. Nina Adgra\n",
      "4  A005        Amy Johny      F   Madrid   30        Mrs. Amy Johny\n"
     ]
    }
   ],
   "source": [
    "employee_df = pd.DataFrame(EmployeeDataFrame)\n",
    "\n",
    "# Add \"Mr.\" or \"Mrs.\" to the name column based on gender\n",
    "employee_df['first_name'] = employee_df.apply(\n",
    "    lambda row: f\"Mr. {row['Name']}\" if row['Gender'] == 'M' else f\"Mrs. {row['Name']}\",\n",
    "    axis=1\n",
    ")\n",
    "# Display the updated dataframe\n",
    "print(employee_df)"
   ]
  },
  {
   "cell_type": "code",
   "execution_count": null,
   "id": "e76a50c1-f2d6-4cbe-8b1a-ba371b3da321",
   "metadata": {},
   "outputs": [],
   "source": []
  },
  {
   "cell_type": "raw",
   "id": "b4703499-c22c-4665-ae2c-85e1ac93812e",
   "metadata": {},
   "source": [
    "Task - 8 Promote designation level by 1 for the employees whose age is more than 29 years using IF condition."
   ]
  },
  {
   "cell_type": "code",
   "execution_count": 71,
   "id": "0839863d-951c-4a86-b211-6230f01adcc4",
   "metadata": {},
   "outputs": [
    {
     "name": "stdout",
     "output_type": "stream",
     "text": [
      "     ID             Name Gender     City  Age  Designation Level\n",
      "0  A001       John Alter      M    Paris   25                  2\n",
      "1  A002  Alice Luxumberg      F   London   27                  2\n",
      "2  A003    Tom Sabestine      M   Berlin   29                  3\n",
      "3  A004       Nina Adgra      F  Newyork   31                  3\n",
      "4  A005        Amy Johny      F   Madrid   30                  4\n"
     ]
    }
   ],
   "source": [
    "# Promote designation level by 1 for employees whose age is greater than 29\n",
    "employee_df = pd.DataFrame(EmployeeDataFrame)\n",
    "employee_df['Designation Level'] = Final.apply(\n",
    "    lambda row: row['Designation Level'] + 1 if row['Age'] > 29 else row['Designation Level'],\n",
    "    axis=1)\n",
    "# Display the updated dataframe\n",
    "print(employee_df)"
   ]
  },
  {
   "cell_type": "code",
   "execution_count": null,
   "id": "20d232ce-284c-4408-964e-5045ead0e94c",
   "metadata": {},
   "outputs": [],
   "source": []
  },
  {
   "cell_type": "raw",
   "id": "41da25de-a6c9-4e67-8f94-cda730705f94",
   "metadata": {},
   "source": [
    "Task9 - Add the cost of all projects for each Employee and save it in new dataframe “TotalProjCost” with three columns ID, First Name, and Total cost"
   ]
  },
  {
   "cell_type": "code",
   "execution_count": 72,
   "id": "41fe4f6a-7792-4984-afec-526132247edf",
   "metadata": {},
   "outputs": [
    {
     "name": "stdout",
     "output_type": "stream",
     "text": [
      "     ID             Name          Cost\n",
      "0  A001       John Alter  5.063714e+06\n",
      "1  A002  Alice Luxumberg  2.680000e+06\n",
      "2  A003    Tom Sabestine  5.150000e+06\n",
      "3  A004       Nina Adgra  9.500000e+06\n",
      "4  A005        Amy Johny  3.850500e+06\n"
     ]
    }
   ],
   "source": [
    "#Group by employee_id and first_name, then sum project costs\n",
    "TotalProjCost = Final.groupby(['ID', 'Name'], as_index=False)['Cost'].sum()\n",
    "# Display the new TotalProjCost dataframe\n",
    "print(TotalProjCost)"
   ]
  },
  {
   "cell_type": "code",
   "execution_count": null,
   "id": "175b5d75-df44-4c43-899d-0c3b725a66fb",
   "metadata": {},
   "outputs": [],
   "source": []
  },
  {
   "cell_type": "raw",
   "id": "0abe700f-2b33-42c8-aa90-369fe5c21ca1",
   "metadata": {},
   "source": [
    "Task10 - Print all the employee details whose city name contains the letter “o” in it."
   ]
  },
  {
   "cell_type": "code",
   "execution_count": 73,
   "id": "7dfe1dff-ec8a-4887-bcb7-d11b732f18f0",
   "metadata": {},
   "outputs": [
    {
     "name": "stdout",
     "output_type": "stream",
     "text": [
      "      ID     Project       Cost    Status             Name Gender     City  \\\n",
      "1   A002   Project 2  2000000.0   Ongoing  Alice Luxumberg      F   London   \n",
      "3   A004   Project 4  5500000.0   Ongoing       Nina Adgra      F  Newyork   \n",
      "5   A002   Project 6   680000.0    Failed  Alice Luxumberg      F   London   \n",
      "11  A004  Project 12  1000000.0   Ongoing       Nina Adgra      F  Newyork   \n",
      "12  A004  Project 13  3000000.0  Finished       Nina Adgra      F  Newyork   \n",
      "\n",
      "    Age  Designation Level     Bonus  \n",
      "1    27                  2       0.0  \n",
      "3    31                  2       0.0  \n",
      "5    27                  2       0.0  \n",
      "11   31                  2       0.0  \n",
      "12   31                  2  150000.0  \n"
     ]
    }
   ],
   "source": [
    "# Filter employees whose city contains the letter 'o'\n",
    "Employees_filter = Final[Final['City'].str.contains('o', case=False, na=False)]\n",
    "\n",
    "# Print the filtered dataframe\n",
    "print(Employees_filter)"
   ]
  },
  {
   "cell_type": "code",
   "execution_count": null,
   "id": "bd40e673-58d7-4fe3-9c21-1866c2f22888",
   "metadata": {},
   "outputs": [],
   "source": []
  }
 ],
 "metadata": {
  "kernelspec": {
   "display_name": "Python [conda env:base] *",
   "language": "python",
   "name": "conda-base-py"
  },
  "language_info": {
   "codemirror_mode": {
    "name": "ipython",
    "version": 3
   },
   "file_extension": ".py",
   "mimetype": "text/x-python",
   "name": "python",
   "nbconvert_exporter": "python",
   "pygments_lexer": "ipython3",
   "version": "3.12.7"
  }
 },
 "nbformat": 4,
 "nbformat_minor": 5
}
